{
 "cells": [
  {
   "cell_type": "markdown",
   "id": "e8e12838",
   "metadata": {},
   "source": [
    "# Exercise 5 Solutions\n",
    "This notebook contains solutions to the week 5 exercises."
   ]
  },
  {
   "cell_type": "markdown",
   "id": "210e624c",
   "metadata": {},
   "source": [
    "## Exercise 5.1\n",
    "Compute the projection matrices and image projections of $Q$."
   ]
  },
  {
   "cell_type": "code",
   "execution_count": 1,
   "id": "46e3dee9",
   "metadata": {
    "execution": {
     "iopub.execute_input": "2025-08-14T21:04:01.980278Z",
     "iopub.status.busy": "2025-08-14T21:04:01.980048Z",
     "iopub.status.idle": "2025-08-14T21:04:02.062000Z",
     "shell.execute_reply": "2025-08-14T21:04:02.061321Z"
    }
   },
   "outputs": [
    {
     "data": {
      "text/plain": [
       "(array([[700.,   0., 600., 600.],\n",
       "        [  0., 700., 400., 400.],\n",
       "        [  0.,   0.,   1.,   1.]]),\n",
       " array([[7.0e+02, 0.0e+00, 6.0e+02, 1.2e+04],\n",
       "        [0.0e+00, 7.0e+02, 4.0e+02, 8.0e+03],\n",
       "        [0.0e+00, 0.0e+00, 1.0e+00, 2.0e+01]]),\n",
       " array([1300., 1100.]),\n",
       " array([635., 435.]))"
      ]
     },
     "execution_count": 1,
     "metadata": {},
     "output_type": "execute_result"
    }
   ],
   "source": [
    "\n",
    "import numpy as np\n",
    "# Camera intrinsics\n",
    "K = np.array([[700,0,600],\n",
    "              [0,700,400],\n",
    "              [0,0,1]])\n",
    "# Rotations and translations\n",
    "R1 = np.eye(3)\n",
    "R2 = np.eye(3)\n",
    "t1 = np.array([[0],[0],[1]])\n",
    "t2 = np.array([[0],[0],[20]])\n",
    "# Projection matrices\n",
    "P1 = K @ np.hstack([R1, t1])\n",
    "P2 = K @ np.hstack([R2, t2])\n",
    "# 3D point\n",
    "Q = np.array([1,1,0])\n",
    "Qh = np.hstack([Q,1])\n",
    "\n",
    "def project(P, Qh):\n",
    "    q = P @ Qh\n",
    "    return (q/q[2])[:2]\n",
    "\n",
    "q1 = project(P1, Qh)\n",
    "q2 = project(P2, Qh)\n",
    "P1, P2, q1, q2\n"
   ]
  },
  {
   "cell_type": "markdown",
   "id": "2e9cbc82",
   "metadata": {},
   "source": [
    "## Exercise 5.2\n",
    "Triangulate from noisy observations and compute reprojection error."
   ]
  },
  {
   "cell_type": "code",
   "execution_count": 2,
   "id": "993d8f93",
   "metadata": {
    "execution": {
     "iopub.execute_input": "2025-08-14T21:04:02.074125Z",
     "iopub.status.busy": "2025-08-14T21:04:02.073812Z",
     "iopub.status.idle": "2025-08-14T21:04:02.081559Z",
     "shell.execute_reply": "2025-08-14T21:04:02.081021Z"
    }
   },
   "outputs": [
    {
     "data": {
      "text/plain": [
       "(array([1.01527507e+00, 9.85270570e-01, 2.85786810e-04]),\n",
       " np.float64(13.4330189881917),\n",
       " np.float64(0.6717725840473774),\n",
       " np.float64(0.021221817353380742))"
      ]
     },
     "execution_count": 2,
     "metadata": {},
     "output_type": "execute_result"
    }
   ],
   "source": [
    "\n",
    "# Add noise to projections\n",
    "q1_tilde = q1 + np.array([1,-1])\n",
    "q2_tilde = q2 + np.array([1,-1])\n",
    "\n",
    "# Linear triangulation function\n",
    "\n",
    "def triangulate(qs, Ps):\n",
    "    A = []\n",
    "    for q, P in zip(qs, Ps):\n",
    "        x, y = q\n",
    "        A.append(x*P[2] - P[0])\n",
    "        A.append(y*P[2] - P[1])\n",
    "    A = np.array(A)\n",
    "    _, _, Vt = np.linalg.svd(A)\n",
    "    X = Vt[-1]\n",
    "    X = X/X[3]\n",
    "    return X[:3]\n",
    "\n",
    "Q_tilde = triangulate([q1_tilde, q2_tilde], [P1, P2])\n",
    "\n",
    "# Reproject\n",
    "q1_hat = project(P1, np.hstack([Q_tilde,1]))\n",
    "q2_hat = project(P2, np.hstack([Q_tilde,1]))\n",
    "\n",
    "# Errors\n",
    "err1 = np.linalg.norm(q1_hat - q1_tilde)\n",
    "err2 = np.linalg.norm(q2_hat - q2_tilde)\n",
    "\n",
    "# Distance to true Q\n",
    "err_Q = np.linalg.norm(Q_tilde - Q)\n",
    "Q_tilde, err1, err2, err_Q\n"
   ]
  },
  {
   "cell_type": "markdown",
   "id": "602c936c",
   "metadata": {},
   "source": [
    "## Exercise 5.3\n",
    "Implement nonlinear triangulation using least squares."
   ]
  },
  {
   "cell_type": "code",
   "execution_count": 3,
   "id": "88bf94ac",
   "metadata": {
    "execution": {
     "iopub.execute_input": "2025-08-14T21:04:02.083405Z",
     "iopub.status.busy": "2025-08-14T21:04:02.083188Z",
     "iopub.status.idle": "2025-08-14T21:04:02.403970Z",
     "shell.execute_reply": "2025-08-14T21:04:02.403149Z"
    }
   },
   "outputs": [],
   "source": [
    "\n",
    "from scipy.optimize import least_squares\n",
    "\n",
    "def triangulate_nonlin(qs, Ps):\n",
    "    def compute_residuals(X):\n",
    "        Xh = np.hstack([X,1])\n",
    "        res = []\n",
    "        for q, P in zip(qs, Ps):\n",
    "            q_hat = project(P, Xh)\n",
    "            res.extend(q_hat - q)\n",
    "        return np.array(res)\n",
    "    x0 = triangulate(qs, Ps)\n",
    "    res = least_squares(compute_residuals, x0)\n",
    "    return res.x\n"
   ]
  },
  {
   "cell_type": "markdown",
   "id": "a1821a2c",
   "metadata": {},
   "source": [
    "## Exercise 5.4\n",
    "Use the nonlinear triangulation and evaluate reprojection error."
   ]
  },
  {
   "cell_type": "code",
   "execution_count": 4,
   "id": "81c30017",
   "metadata": {
    "execution": {
     "iopub.execute_input": "2025-08-14T21:04:02.407137Z",
     "iopub.status.busy": "2025-08-14T21:04:02.406772Z",
     "iopub.status.idle": "2025-08-14T21:04:02.418095Z",
     "shell.execute_reply": "2025-08-14T21:04:02.417377Z"
    }
   },
   "outputs": [
    {
     "data": {
      "text/plain": [
       "(array([1.00153898e+00, 9.98546325e-01, 4.27519045e-05]),\n",
       " np.float64(0.06701026911364885),\n",
       " np.float64(1.34015086688393),\n",
       " np.float64(0.002117415491010624))"
      ]
     },
     "execution_count": 4,
     "metadata": {},
     "output_type": "execute_result"
    }
   ],
   "source": [
    "\n",
    "Q_hat = triangulate_nonlin([q1_tilde, q2_tilde], [P1, P2])\n",
    "\n",
    "q1_hat_nl = project(P1, np.hstack([Q_hat,1]))\n",
    "q2_hat_nl = project(P2, np.hstack([Q_hat,1]))\n",
    "err1_nl = np.linalg.norm(q1_hat_nl - q1_tilde)\n",
    "err2_nl = np.linalg.norm(q2_hat_nl - q2_tilde)\n",
    "err_Q_nl = np.linalg.norm(Q_hat - Q)\n",
    "Q_hat, err1_nl, err2_nl, err_Q_nl\n"
   ]
  },
  {
   "cell_type": "markdown",
   "id": "6fa742df",
   "metadata": {},
   "source": [
    "## Exercises 5.5 - 5.11\n",
    "The following exercises involve camera calibration using real images.\n",
    "Code templates are provided for guidance. Replace placeholders with your own images."
   ]
  },
  {
   "cell_type": "markdown",
   "id": "b22e4360",
   "metadata": {},
   "source": [
    "### Exercise 5.5\n",
    "Capture approximately twenty images of a checkerboard pattern from different viewpoints."
   ]
  },
  {
   "cell_type": "markdown",
   "id": "f570f44f",
   "metadata": {},
   "source": [
    "### Exercise 5.6\n",
    "Load images and ensure consistent orientation."
   ]
  },
  {
   "cell_type": "code",
   "execution_count": null,
   "id": "87c6be11",
   "metadata": {},
   "outputs": [],
   "source": [
    "\n",
    "import cv2\n",
    "import glob\n",
    "image_paths = sorted(glob.glob('calibration_images/*.jpg'))\n",
    "images = [cv2.imread(p) for p in image_paths if cv2.imread(p) is not None]\n",
    "if not images:\n",
    "    print('No images found. Place calibration images in calibration_images/*.jpg')\n",
    "else:\n",
    "    sizes = [im.shape for im in images]\n",
    "    if len(set(sizes)) != 1:\n",
    "        print('Warning: images have inconsistent sizes.')\n"
   ]
  },
  {
   "cell_type": "markdown",
   "id": "6250fd16",
   "metadata": {},
   "source": [
    "### Exercise 5.7\n",
    "Detect checkerboard corners in all images."
   ]
  },
  {
   "cell_type": "code",
   "execution_count": null,
   "id": "70bd1e12",
   "metadata": {},
   "outputs": [],
   "source": [
    "\n",
    "pattern_size = (9,6)\n",
    "objpoints = []\n",
    "imgpoints = []\n",
    "objp = np.zeros((pattern_size[0]*pattern_size[1],3), np.float32)\n",
    "objp[:,:2] = np.mgrid[0:pattern_size[0],0:pattern_size[1]].T.reshape(-1,2)\n",
    "for im in images:\n",
    "    gray = cv2.cvtColor(im, cv2.COLOR_BGR2GRAY)\n",
    "    ret, corners = cv2.findChessboardCorners(gray, pattern_size)\n",
    "    if ret:\n",
    "        objpoints.append(objp)\n",
    "        imgpoints.append(corners)\n"
   ]
  },
  {
   "cell_type": "markdown",
   "id": "63d221a2",
   "metadata": {},
   "source": [
    "### Exercise 5.8\n",
    "Calibrate the camera using detected corners."
   ]
  },
  {
   "cell_type": "code",
   "execution_count": null,
   "id": "9ee719cf",
   "metadata": {},
   "outputs": [],
   "source": [
    "\n",
    "if objpoints and imgpoints:\n",
    "    ret, K_est, dist, rvecs, tvecs = cv2.calibrateCamera(objpoints, imgpoints, images[0].shape[1::-1], None, None,\n",
    "        flags=cv2.CALIB_FIX_K1+cv2.CALIB_FIX_K2+cv2.CALIB_FIX_K3+cv2.CALIB_FIX_K4+              cv2.CALIB_FIX_K5+cv2.CALIB_FIX_K6+cv2.CALIB_ZERO_TANGENT_DIST)\n",
    "    print('Estimated K:', K_est)\n",
    "else:\n",
    "    print('Calibration requires detected corners.')\n"
   ]
  },
  {
   "cell_type": "markdown",
   "id": "78d4a221",
   "metadata": {},
   "source": [
    "### Exercise 5.9\n",
    "Reproject checkerboard corners and compute RMSE per frame."
   ]
  },
  {
   "cell_type": "code",
   "execution_count": null,
   "id": "2ef5111a",
   "metadata": {},
   "outputs": [],
   "source": [
    "\n",
    "if objpoints and imgpoints:\n",
    "    rmse = []\n",
    "    for objp,corners,rvec,tvec in zip(objpoints,imgpoints,rvecs,tvecs):\n",
    "        proj,_ = cv2.projectPoints(objp, rvec, tvec, K_est, dist)\n",
    "        err = np.linalg.norm(proj.reshape(-1,2) - corners.reshape(-1,2), axis=1)\n",
    "        rmse.append(np.sqrt((err**2).mean()))\n",
    "    print('Max RMSE:', np.max(rmse))\n",
    "else:\n",
    "    print('Need calibration results to compute RMSE.')\n"
   ]
  },
  {
   "cell_type": "markdown",
   "id": "291a51e3",
   "metadata": {},
   "source": [
    "### Exercise 5.10\n",
    "Project a 3D box into one of the images."
   ]
  },
  {
   "cell_type": "code",
   "execution_count": null,
   "id": "5d54cdb2",
   "metadata": {},
   "outputs": [],
   "source": [
    "\n",
    "# Placeholder for projecting a 3D box; assumes box3d() from week 1\n",
    "try:\n",
    "    from ex01 import box3d\n",
    "    if objpoints and imgpoints:\n",
    "        Q_box = 2*box3d() + 1\n",
    "        rvec, tvec = rvecs[0], tvecs[0]\n",
    "        proj,_ = cv2.projectPoints(Q_box, rvec, tvec, K_est, dist)\n",
    "        print('Projected box points shape:', proj.shape)\n",
    "    else:\n",
    "        print('Calibration required before projection.')\n",
    "except Exception as e:\n",
    "    print('box3d function not available:', e)\n"
   ]
  },
  {
   "cell_type": "markdown",
   "id": "637b2e58",
   "metadata": {},
   "source": [
    "### Exercise 5.11\n",
    "Repeat calibration allowing first order distortion."
   ]
  },
  {
   "cell_type": "code",
   "execution_count": null,
   "id": "7fc6a2b9",
   "metadata": {},
   "outputs": [],
   "source": [
    "\n",
    "if objpoints and imgpoints:\n",
    "    ret2, K2, dist2, rvecs2, tvecs2 = cv2.calibrateCamera(objpoints, imgpoints, images[0].shape[1::-1], None, None)\n",
    "    print('Reprojection error with distortion:', ret2)\n",
    "else:\n",
    "    print('Calibration requires detected corners.')\n"
   ]
  }
 ],
 "metadata": {
  "language_info": {
   "codemirror_mode": {
    "name": "ipython",
    "version": 3
   },
   "file_extension": ".py",
   "mimetype": "text/x-python",
   "name": "python",
   "nbconvert_exporter": "python",
   "pygments_lexer": "ipython3",
   "version": "3.12.10"
  }
 },
 "nbformat": 4,
 "nbformat_minor": 5
}
