{
 "cells": [
  {
   "cell_type": "markdown",
   "metadata": {},
   "source": [
    "# EX02 Solutions\n",
    "Solutions to the second week's exercises on rigid and perspective transformations."
   ]
  },
  {
   "cell_type": "markdown",
   "metadata": {},
   "source": [
    "In these exercises we assume square pixels, so the skew parameter $\\beta=0$."
   ]
  },
  {
   "cell_type": "markdown",
   "metadata": {},
   "source": [
    "## Exercise 2.1"
   ]
  },
  {
   "cell_type": "code",
   "metadata": {},
   "source": [
    "\n",
    "f=600; alpha=1; beta=0; cx=cy=400\n",
    "K=np.array([[alpha*f,beta,cx],[0,f,cy],[0,0,1]])\n",
    "R=np.eye(3)\n",
    "t=np.array([0,0.2,1.5])\n",
    "width,height=2*cx,2*cy\n",
    "print('resolution =',width,'x',height)\n",
    "Q=box3d()\n",
    "proj=projectpoints(K,R,t,Q)\n",
    "inside=np.all((proj>=0)&(proj< [width,height]),axis=1)\n",
    "print('all points inside sensor?',inside.all())\n",
    "P1=np.array([-0.5,-0.5,-0.5])\n",
    "print('P1 projects to',projectpoints(K,R,t,[P1])[0])\n"
   ],
   "outputs": [
    {
     "output_type": "stream",
     "name": "stdout",
     "text": "resolution = 800 x 800\nall points inside sensor? False\nP1 projects to [100. 220.]\n"
    }
   ],
   "execution_count": null
  },
  {
   "cell_type": "markdown",
   "metadata": {},
   "source": [
    "## Exercise 2.2"
   ]
  },
  {
   "cell_type": "code",
   "metadata": {},
   "source": [
    "\n",
    "dist=[-0.2,0,0]\n",
    "proj_d=projectpoints_dist(K,R,t,Q,dist)\n",
    "print('P1 with distortion',projectpoints_dist(K,R,t,[P1],dist)[0])\n",
    "inside=np.all((proj_d>=0)&(proj_d<[width,height]),axis=1)\n",
    "print('all distorted points inside sensor?',inside.all())\n"
   ],
   "outputs": [
    {
     "output_type": "stream",
     "name": "stdout",
     "text": "P1 with distortion [120.4  232.24]\nall distorted points inside sensor? True\n"
    }
   ],
   "execution_count": null
  },
  {
   "cell_type": "markdown",
   "metadata": {},
   "source": [
    "## Exercise 2.3"
   ]
  },
  {
   "cell_type": "code",
   "metadata": {},
   "source": [
    "\n",
    "width,height=1920,1080\n",
    "focal=0.455732*width\n",
    "cx,cy=width/2,height/2\n",
    "K_gopro=np.array([[focal,0,cx],[0,focal,cy],[0,0,1]])\n",
    "print('K =')\n",
    "print(K_gopro)\n"
   ],
   "outputs": [
    {
     "output_type": "stream",
     "name": "stdout",
     "text": "K =\n[[875.00544   0.      960.     ]\n [  0.      875.00544 540.     ]\n [  0.        0.        1.     ]]\n"
    }
   ],
   "execution_count": null
  },
  {
   "cell_type": "markdown",
   "metadata": {},
   "source": [
    "## Exercise 2.4"
   ]
  },
  {
   "cell_type": "code",
   "metadata": {},
   "source": [
    "\n",
    "im=np.tile(np.linspace(0,1,200),(200,1))\n",
    "K_demo=np.array([[100,0,100],[0,100,100],[0,0,1]])\n",
    "und=undistortImage(im,K_demo,[-0.2,0,0])\n",
    "print('undistorted image shape',und.shape)\n"
   ],
   "outputs": [
    {
     "output_type": "stream",
     "name": "stdout",
     "text": "undistorted image shape (200, 200)\n"
    }
   ],
   "execution_count": null
  },
  {
   "cell_type": "markdown",
   "metadata": {},
   "source": [
    "## Exercise 2.5"
   ]
  },
  {
   "cell_type": "code",
   "metadata": {},
   "source": [
    "\n",
    "H=np.array([[-2,0,1],[1,-2,0],[0,0,3]])\n",
    "pts=np.array([[1,0,2,2],[1,3,3,4]])\n",
    "pts_h=np.vstack((pts,np.ones(4)))\n",
    "qs=H@pts_h\n",
    "qs=(qs/qs[2])[:2]\n",
    "print('mapped points:')\n",
    "print(qs)\n"
   ],
   "outputs": [
    {
     "output_type": "stream",
     "name": "stdout",
     "text": "mapped points:\n[[-0.33333333  0.33333333 -1.         -1.        ]\n [-0.33333333 -2.         -1.33333333 -2.        ]]\n"
    }
   ],
   "execution_count": null
  },
  {
   "cell_type": "markdown",
   "metadata": {},
   "source": [
    "## Exercise 2.6"
   ]
  },
  {
   "cell_type": "code",
   "metadata": {},
   "source": [
    "\n",
    "q2=pts\n",
    "q1=qs\n",
    "H_est=hest(q1,q2)\n",
    "print('estimated H scaled:')\n",
    "print(H_est/H_est[2,2])\n"
   ],
   "outputs": [
    {
     "output_type": "stream",
     "name": "stdout",
     "text": "estimated H scaled:\n[[-6.66666667e-01 -2.27371531e-16  3.33333333e-01]\n [ 3.33333333e-01 -6.66666667e-01  6.07369995e-16]\n [ 4.30981525e-16  2.49505901e-16  1.00000000e+00]]\n"
    }
   ],
   "execution_count": null
  },
  {
   "cell_type": "markdown",
   "metadata": {},
   "source": [
    "## Exercise 2.7"
   ]
  },
  {
   "cell_type": "code",
   "metadata": {},
   "source": [
    "\n",
    "pts_test=np.random.randn(2,100)\n",
    "T,pts_norm=normalize2d(pts_test)\n",
    "print('mean',pts_norm.mean(axis=1))\n",
    "print('std',pts_norm.std(axis=1))\n"
   ],
   "outputs": [
    {
     "output_type": "stream",
     "name": "stdout",
     "text": "mean [ 1.77635684e-17 -3.33066907e-18]\nstd [1. 1.]\n"
    }
   ],
   "execution_count": null
  },
  {
   "cell_type": "markdown",
   "metadata": {},
   "source": [
    "## Exercise 2.8"
   ]
  },
  {
   "cell_type": "code",
   "metadata": {},
   "source": [
    "\n",
    "H_est_n=hest(q1,q2,normalize=True)\n",
    "print('normalized estimate scaled:')\n",
    "print(H_est_n/H_est_n[2,2])\n"
   ],
   "outputs": [
    {
     "output_type": "stream",
     "name": "stdout",
     "text": "normalized estimate scaled:\n[[-6.66666667e-01 -3.60091849e-17  3.33333333e-01]\n [ 3.33333333e-01 -6.66666667e-01 -2.01636414e-16]\n [-2.42735683e-16  9.97965660e-17  1.00000000e+00]]\n"
    }
   ],
   "execution_count": null
  },
  {
   "cell_type": "markdown",
   "metadata": {},
   "source": [
    "## Exercise 2.9"
   ]
  },
  {
   "cell_type": "code",
   "metadata": {},
   "source": [
    "\n",
    "q2=np.random.randn(2,100)\n",
    "q2h=np.vstack((q2,np.ones(100)))\n",
    "H_true=np.random.randn(3,3)\n",
    "q1h=H_true@q2h\n",
    "q1=q1h[:2]/q1h[2]\n",
    "H_est=hest(q1,q2,normalize=True)\n",
    "H_true_n=H_true/H_true[2,2]\n",
    "H_est_n=H_est/H_est[2,2]\n",
    "print('frobenius error',np.linalg.norm(H_true_n-H_est_n))\n"
   ],
   "outputs": [
    {
     "output_type": "stream",
     "name": "stdout",
     "text": "frobenius error 2.2419702575676162e-14\n"
    }
   ],
   "execution_count": null
  },
  {
   "cell_type": "markdown",
   "metadata": {},
   "source": [
    "## Exercise 2.10"
   ]
  },
  {
   "cell_type": "code",
   "metadata": {},
   "source": [
    "\n",
    "imA=np.tile(np.linspace(0,1,200),(200,1))\n",
    "H_true=np.array([[1,0,30],[0,1,20],[0,0,1]])\n",
    "ptsA=np.array([[50,150,150,50],[50,50,150,150]])\n",
    "ptsAh=np.vstack((ptsA,np.ones(4)))\n",
    "ptsBh=H_true@ptsAh\n",
    "ptsB=ptsBh[:2]/ptsBh[2]\n",
    "H_est=hest(ptsB,ptsA,normalize=True)\n",
    "print('H_true:')\n",
    "print(H_true)\n",
    "print('H_est scaled:')\n",
    "print(H_est/H_est[2,2])\n"
   ],
   "outputs": [
    {
     "output_type": "stream",
     "name": "stdout",
     "text": "H_true:\n[[ 1  0 30]\n [ 0  1 20]\n [ 0  0  1]]\nH_est scaled:\n[[ 1.00000000e+00 -4.63271590e-16  3.00000000e+01]\n [ 5.48852816e-16  1.00000000e+00  2.00000000e+01]\n [ 2.00989635e-18 -3.75899171e-18  1.00000000e+00]]\n"
    }
   ],
   "execution_count": null
  },
  {
   "cell_type": "markdown",
   "metadata": {},
   "source": [
    "## Exercise 2.11"
   ]
  },
  {
   "cell_type": "code",
   "metadata": {},
   "source": [
    "\n",
    "imA_w=warpImage(imA,H_est)\n",
    "print('warped image shape',imA_w.shape)\n"
   ],
   "outputs": [
    {
     "output_type": "stream",
     "name": "stdout",
     "text": "warped image shape (200, 200)\n"
    }
   ],
   "execution_count": null
  }
 ],
 "metadata": {
  "language_info": {
   "name": "python"
  }
 },
 "nbformat": 4,
 "nbformat_minor": 2
}