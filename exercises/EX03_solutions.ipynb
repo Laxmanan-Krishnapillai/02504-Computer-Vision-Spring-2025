{
 "cells": [
  {
   "cell_type": "markdown",
   "id": "7c5dc5fb",
   "metadata": {},
   "source": [
    "# EX03 Solutions\n",
    "Solutions to the third week's exercises on stereo vision and triangulation."
   ]
  },
  {
   "cell_type": "code",
   "execution_count": 1,
   "id": "34acb478",
   "metadata": {
    "execution": {
     "iopub.execute_input": "2025-08-14T18:43:07.213238Z",
     "iopub.status.busy": "2025-08-14T18:43:07.213006Z",
     "iopub.status.idle": "2025-08-14T18:43:07.976310Z",
     "shell.execute_reply": "2025-08-14T18:43:07.975647Z"
    }
   },
   "outputs": [],
   "source": [
    "import numpy as np\n",
    "from scipy.spatial.transform import Rotation\n",
    "import matplotlib.pyplot as plt"
   ]
  },
  {
   "cell_type": "markdown",
   "id": "286b53ce",
   "metadata": {},
   "source": [
    "### Exercise 3.1\n",
    "We project the world point $Q$ into each camera using the pinhole model\n",
    "$\\mathbf{q} \\sim K [R \\mid t] Q$ where $Q$ is expressed in homogeneous coordinates.\n",
    "The intrinsics and extrinsics are specified in the exercise."
   ]
  },
  {
   "cell_type": "code",
   "execution_count": 2,
   "id": "aa2eec86",
   "metadata": {
    "execution": {
     "iopub.execute_input": "2025-08-14T18:43:07.979289Z",
     "iopub.status.busy": "2025-08-14T18:43:07.978967Z",
     "iopub.status.idle": "2025-08-14T18:43:07.986706Z",
     "shell.execute_reply": "2025-08-14T18:43:07.986141Z"
    }
   },
   "outputs": [
    {
     "name": "stdout",
     "output_type": "stream",
     "text": [
      "q1 = [550. 325.]\n",
      "q2 = [582.47256835 185.98985776]\n"
     ]
    }
   ],
   "source": [
    "# Camera intrinsics\n",
    "K = np.array([[1000,0,300],\n",
    "              [0,1000,200],\n",
    "              [0,0,1]])\n",
    "\n",
    "# Camera extrinsics\n",
    "t1 = np.zeros(3)\n",
    "R1 = np.eye(3)\n",
    "\n",
    "R2 = Rotation.from_euler('xyz',[0.7,-0.5,0.8]).as_matrix()\n",
    "t2 = np.array([0.2,2.0,1.0])\n",
    "\n",
    "# Homogeneous point\n",
    "Q = np.array([1,0.5,4,1])\n",
    "\n",
    "# Projection helper\n",
    "def project(K,R,t,Q):\n",
    "    P = K @ np.hstack([R, t.reshape(3,1)])\n",
    "    q = P @ Q\n",
    "    return q[:2]/q[2]\n",
    "\n",
    "q1 = project(K,R1,t1,Q)\n",
    "q2 = project(K,R2,t2,Q)\n",
    "print('q1 =', q1)\n",
    "print('q2 =', q2)\n"
   ]
  },
  {
   "cell_type": "markdown",
   "id": "294b6591",
   "metadata": {},
   "source": [
    "### Exercise 3.2\n",
    "The cross product matrix $[p]_\times$ satisfies $[p]_\times q = p \times q$.\n"
   ]
  },
  {
   "cell_type": "code",
   "execution_count": 3,
   "id": "3bd867d0",
   "metadata": {
    "execution": {
     "iopub.execute_input": "2025-08-14T18:43:07.988548Z",
     "iopub.status.busy": "2025-08-14T18:43:07.988349Z",
     "iopub.status.idle": "2025-08-14T18:43:07.992862Z",
     "shell.execute_reply": "2025-08-14T18:43:07.992298Z"
    }
   },
   "outputs": [
    {
     "name": "stdout",
     "output_type": "stream",
     "text": [
      "difference: 6.938893903907228e-18\n"
     ]
    }
   ],
   "source": [
    "def CrossOp(p):\n",
    "    x,y,z = p\n",
    "    return np.array([[0,-z,y],\n",
    "                     [z,0,-x],\n",
    "                     [-y,x,0]])\n",
    "\n",
    "# verification on random vectors\n",
    "p1 = np.random.randn(3)\n",
    "p2 = np.random.randn(3)\n",
    "left = CrossOp(p1) @ p2\n",
    "right = np.cross(p1,p2)\n",
    "print('difference:', np.linalg.norm(left-right))\n"
   ]
  },
  {
   "cell_type": "markdown",
   "id": "bd5c113b",
   "metadata": {},
   "source": [
    "### Exercise 3.3\n",
    "The essential matrix is $E=[t]_\times R$ and the fundamental matrix is\n",
    "$F = K^{-T} E K^{-1}$."
   ]
  },
  {
   "cell_type": "code",
   "execution_count": 4,
   "id": "e39ea103",
   "metadata": {
    "execution": {
     "iopub.execute_input": "2025-08-14T18:43:07.994632Z",
     "iopub.status.busy": "2025-08-14T18:43:07.994447Z",
     "iopub.status.idle": "2025-08-14T18:43:07.999363Z",
     "shell.execute_reply": "2025-08-14T18:43:07.998794Z"
    }
   },
   "outputs": [
    {
     "name": "stdout",
     "output_type": "stream",
     "text": [
      "F =\n",
      "[[ 3.29311881e-07  8.19396327e-07  1.79162592e-03]\n",
      " [ 5.15532551e-07 -8.76915984e-07  9.31426656e-05]\n",
      " [-1.29882755e-03  1.51951700e-03 -1.10072682e+00]]\n"
     ]
    }
   ],
   "source": [
    "E = CrossOp(t2) @ R2\n",
    "K_inv = np.linalg.inv(K)\n",
    "F = K_inv.T @ E @ K_inv\n",
    "print('F =')\n",
    "print(F)\n"
   ]
  },
  {
   "cell_type": "markdown",
   "id": "83e1ea8a",
   "metadata": {},
   "source": [
    "### Exercise 3.4\n",
    "The epipolar line in the second image corresponding to $q_1$ is $l = F q_1$.\n"
   ]
  },
  {
   "cell_type": "code",
   "execution_count": 5,
   "id": "e6f7a8f2",
   "metadata": {
    "execution": {
     "iopub.execute_input": "2025-08-14T18:43:08.001048Z",
     "iopub.status.busy": "2025-08-14T18:43:08.000835Z",
     "iopub.status.idle": "2025-08-14T18:43:08.004252Z",
     "shell.execute_reply": "2025-08-14T18:43:08.003711Z"
    }
   },
   "outputs": [
    {
     "name": "stdout",
     "output_type": "stream",
     "text": [
      "l = [ 2.23905126e-03  9.16878739e-05 -1.32123895e+00]\n"
     ]
    }
   ],
   "source": [
    "q1_h = np.array([*q1,1])\n",
    "l = F @ q1_h\n",
    "print('l =', l)\n"
   ]
  },
  {
   "cell_type": "markdown",
   "id": "ff31998a",
   "metadata": {},
   "source": [
    "### Exercise 3.5\n",
    "A point lies on a line if the inner product between the homogeneous point and line vanishes:\n",
    "$q_2^T l = 0$.\n"
   ]
  },
  {
   "cell_type": "code",
   "execution_count": 6,
   "id": "858afb95",
   "metadata": {
    "execution": {
     "iopub.execute_input": "2025-08-14T18:43:08.005964Z",
     "iopub.status.busy": "2025-08-14T18:43:08.005796Z",
     "iopub.status.idle": "2025-08-14T18:43:08.008679Z",
     "shell.execute_reply": "2025-08-14T18:43:08.008095Z"
    }
   },
   "outputs": [
    {
     "name": "stdout",
     "output_type": "stream",
     "text": [
      "q2^T l = 4.440892098500626e-16\n"
     ]
    }
   ],
   "source": [
    "q2_h = np.array([*q2,1])\n",
    "val = q2_h @ l\n",
    "print('q2^T l =', val)\n"
   ]
  },
  {
   "cell_type": "markdown",
   "id": "1c6db12f",
   "metadata": {},
   "source": [
    "### Exercise 3.6\n",
    "We verify numerically that\n",
    "$Q = \begin{bmatrix}R_1^T & -R_1^T t_1 \\ 0 & 1\\end{bmatrix} \tilde Q$\n",
    "when $\tilde Q = \begin{bmatrix}R_1 & t_1 \\ 0 & 1\\end{bmatrix} Q$.\n"
   ]
  },
  {
   "cell_type": "code",
   "execution_count": 7,
   "id": "b6ea7cfd",
   "metadata": {
    "execution": {
     "iopub.execute_input": "2025-08-14T18:43:08.010694Z",
     "iopub.status.busy": "2025-08-14T18:43:08.010509Z",
     "iopub.status.idle": "2025-08-14T18:43:08.014633Z",
     "shell.execute_reply": "2025-08-14T18:43:08.014131Z"
    }
   },
   "outputs": [
    {
     "name": "stdout",
     "output_type": "stream",
     "text": [
      "recovered Q equals original: True\n"
     ]
    }
   ],
   "source": [
    "T = np.block([[R1, t1.reshape(3,1)],\n",
    "                   [np.zeros((1,3)), np.ones((1,1))]])\n",
    "T_inv = np.block([[R1.T, -R1.T @ t1.reshape(3,1)],\n",
    "                  [np.zeros((1,3)), np.ones((1,1))]])\n",
    "Q_tilde = T @ Q\n",
    "Q_recovered = T_inv @ Q_tilde\n",
    "print('recovered Q equals original:', np.allclose(Q_recovered, Q))\n"
   ]
  },
  {
   "cell_type": "markdown",
   "id": "8a508255",
   "metadata": {},
   "source": [
    "### Exercise 3.7\n",
    "Using the relation above we project purely in the coordinate frame of camera~1.\n"
   ]
  },
  {
   "cell_type": "code",
   "execution_count": 8,
   "id": "700fcf4f",
   "metadata": {
    "execution": {
     "iopub.execute_input": "2025-08-14T18:43:08.016398Z",
     "iopub.status.busy": "2025-08-14T18:43:08.016217Z",
     "iopub.status.idle": "2025-08-14T18:43:08.020243Z",
     "shell.execute_reply": "2025-08-14T18:43:08.019718Z"
    }
   },
   "outputs": [
    {
     "name": "stdout",
     "output_type": "stream",
     "text": [
      "q1 from camera frame: [550. 325.]\n",
      "q2 from camera frame: [582.47256835 185.98985776]\n"
     ]
    }
   ],
   "source": [
    "R2_tilde = R2 @ R1.T\n",
    "_t2 = t2 - R2 @ R1.T @ t1\n",
    "q1_alt = K @ np.hstack([np.eye(3), np.zeros((3,1))]) @ Q_tilde\n",
    "q1_alt = q1_alt[:2]/q1_alt[2]\n",
    "q2_alt = K @ np.hstack([R2_tilde, _t2.reshape(3,1)]) @ Q_tilde\n",
    "q2_alt = q2_alt[:2]/q2_alt[2]\n",
    "print('q1 from camera frame:', q1_alt)\n",
    "print('q2 from camera frame:', q2_alt)\n"
   ]
  },
  {
   "cell_type": "markdown",
   "id": "649e016a",
   "metadata": {},
   "source": [
    "### Exercise 3.8\n",
    "We compute the fundamental matrix for the car stereo pair contained in\n",
    "`TwoImageDataCar.npy`.\n"
   ]
  },
  {
   "cell_type": "code",
   "execution_count": 9,
   "id": "365b56b9",
   "metadata": {
    "execution": {
     "iopub.execute_input": "2025-08-14T18:43:08.022568Z",
     "iopub.status.busy": "2025-08-14T18:43:08.022353Z",
     "iopub.status.idle": "2025-08-14T18:43:08.028861Z",
     "shell.execute_reply": "2025-08-14T18:43:08.028329Z"
    }
   },
   "outputs": [
    {
     "name": "stdout",
     "output_type": "stream",
     "text": [
      "TwoImageDataCar.npy not found; skipping computation.\n"
     ]
    }
   ],
   "source": [
    "import os\n",
    "if os.path.exists('TwoImageDataCar.npy'):\n",
    "    data = np.load('TwoImageDataCar.npy', allow_pickle=True).item()\n",
    "    pts1 = data['pts1']\n",
    "    pts2 = data['pts2']\n",
    "    # eight-point algorithm with normalization\n",
    "    def normalize(pts):\n",
    "        mean = pts.mean(axis=0)\n",
    "        std = np.sqrt(2) / np.std(pts[:,0:2], axis=0).mean()\n",
    "        T = np.array([[std,0,-std*mean[0]],[0,std,-std*mean[1]],[0,0,1]])\n",
    "        pts_h = np.hstack([pts, np.ones((pts.shape[0],1))])\n",
    "        pts_n = (T @ pts_h.T).T\n",
    "        return pts_n, T\n",
    "    pts1n, T1 = normalize(pts1)\n",
    "    pts2n, T2 = normalize(pts2)\n",
    "    A = np.stack([pts1n[:,0]*pts2n[:,0], pts1n[:,0]*pts2n[:,1], pts1n[:,0],\n",
    "                  pts1n[:,1]*pts2n[:,0], pts1n[:,1]*pts2n[:,1], pts1n[:,1],\n",
    "                  pts2n[:,0], pts2n[:,1], np.ones(len(pts1n))], axis=1)\n",
    "    U,S,Vt = np.linalg.svd(A)\n",
    "    F_n = Vt[-1].reshape(3,3)\n",
    "    # enforce rank-2 constraint\n",
    "    Uf,Sf,Vtf = np.linalg.svd(F_n)\n",
    "    Sf[-1]=0\n",
    "    F_n = Uf @ np.diag(Sf) @ Vtf\n",
    "    F_car = T2.T @ F_n @ T1\n",
    "    print('F_car =\\n', F_car)\n",
    "else:\n",
    "    print('TwoImageDataCar.npy not found; skipping computation.')\n"
   ]
  },
  {
   "cell_type": "markdown",
   "id": "4b63ad34",
   "metadata": {},
   "source": [
    "### Exercise 3.9\n",
    "The snippet below allows clicking in the first image and drawing the corresponding epipolar\n",
    "line in the second image.\n"
   ]
  },
  {
   "cell_type": "code",
   "execution_count": 10,
   "id": "a74f318f",
   "metadata": {
    "execution": {
     "iopub.execute_input": "2025-08-14T18:43:08.030713Z",
     "iopub.status.busy": "2025-08-14T18:43:08.030518Z",
     "iopub.status.idle": "2025-08-14T18:43:08.033779Z",
     "shell.execute_reply": "2025-08-14T18:43:08.033238Z"
    }
   },
   "outputs": [
    {
     "name": "stdout",
     "output_type": "stream",
     "text": [
      "Interactive demo not executed.\n"
     ]
    }
   ],
   "source": [
    "# This cell demonstrates how to interactively draw an epipolar line in image 2\n",
    "# given a click in image 1. It requires an interactive backend.\n",
    "# Uncomment the lines below to use in a local environment.\n",
    "# if 'F_car' in globals():\n",
    "#     img1, img2 = data['img1'], data['img2']\n",
    "#     %matplotlib qt\n",
    "#     fig, (ax1,ax2) = plt.subplots(1,2)\n",
    "#     ax1.imshow(img1); ax2.imshow(img2)\n",
    "#     ax1.set_title('Image 1'); ax2.set_title('Image 2')\n",
    "#     plt.show()\n",
    "#     def onclick(event):\n",
    "#         if event.inaxes==ax1:\n",
    "#             q = np.array([event.xdata, event.ydata,1])\n",
    "#             l = F_car @ q\n",
    "#             x = np.array([0, img2.shape[1]-1])\n",
    "#             y = -(l[0]*x + l[2])/l[1]\n",
    "#             ax2.plot(x,y,'r-')\n",
    "#             fig.canvas.draw()\n",
    "#     cid = fig.canvas.mpl_connect('button_press_event', onclick)\n",
    "# else:\n",
    "#     print('Fundamental matrix not available.')\n",
    "print('Interactive demo not executed.')"
   ]
  },
  {
   "cell_type": "markdown",
   "id": "5fddeb9f",
   "metadata": {},
   "source": [
    "### Exercise 3.10\n",
    "This cell performs the symmetric operation: clicking in image two draws the epipolar\n",
    "line in image one using the transpose of the fundamental matrix.\n"
   ]
  },
  {
   "cell_type": "code",
   "execution_count": 11,
   "id": "a2a00416",
   "metadata": {
    "execution": {
     "iopub.execute_input": "2025-08-14T18:43:08.035677Z",
     "iopub.status.busy": "2025-08-14T18:43:08.035488Z",
     "iopub.status.idle": "2025-08-14T18:43:08.038560Z",
     "shell.execute_reply": "2025-08-14T18:43:08.038021Z"
    }
   },
   "outputs": [
    {
     "name": "stdout",
     "output_type": "stream",
     "text": [
      "Interactive demo not executed.\n"
     ]
    }
   ],
   "source": [
    "# Symmetric interactive demo for clicking in image 2 and drawing\n",
    "# the corresponding epipolar line in image 1. Requires an interactive backend.\n",
    "# Uncomment for use in a local environment.\n",
    "# if 'F_car' in globals():\n",
    "#     img1, img2 = data['img1'], data['img2']\n",
    "#     %matplotlib qt\n",
    "#     fig, (ax1,ax2) = plt.subplots(1,2)\n",
    "#     ax1.imshow(img1); ax2.imshow(img2)\n",
    "#     ax1.set_title('Image 1'); ax2.set_title('Image 2')\n",
    "#     plt.show()\n",
    "#     def onclick(event):\n",
    "#         if event.inaxes==ax2:\n",
    "#             q = np.array([event.xdata, event.ydata,1])\n",
    "#             l = F_car.T @ q\n",
    "#             x = np.array([0, img1.shape[1]-1])\n",
    "#             y = -(l[0]*x + l[2])/l[1]\n",
    "#             ax1.plot(x,y,'g-')\n",
    "#             fig.canvas.draw()\n",
    "#     cid = fig.canvas.mpl_connect('button_press_event', onclick)\n",
    "# else:\n",
    "#     print('Fundamental matrix not available.')\n",
    "print('Interactive demo not executed.')"
   ]
  },
  {
   "cell_type": "markdown",
   "id": "55b62b3d",
   "metadata": {},
   "source": [
    "### Exercise 3.11\n",
    "We implement linear triangulation for a point observed in multiple views.\n"
   ]
  },
  {
   "cell_type": "code",
   "execution_count": 12,
   "id": "8fabda34",
   "metadata": {
    "execution": {
     "iopub.execute_input": "2025-08-14T18:43:08.040303Z",
     "iopub.status.busy": "2025-08-14T18:43:08.040139Z",
     "iopub.status.idle": "2025-08-14T18:43:08.046375Z",
     "shell.execute_reply": "2025-08-14T18:43:08.045692Z"
    }
   },
   "outputs": [
    {
     "name": "stdout",
     "output_type": "stream",
     "text": [
      "triangulated Q: [1.  0.5 4. ]\n",
      "reprojection error cam1: 2.8421709430404007e-13\n",
      "reprojection error cam2: 2.5421149729252077e-13\n"
     ]
    }
   ],
   "source": [
    "def triangulate(qs, Ps):\n",
    "    A = []\n",
    "    for q, P in zip(qs, Ps):\n",
    "        x,y = q\n",
    "        A.append(x*P[2]-P[0])\n",
    "        A.append(y*P[2]-P[1])\n",
    "    A = np.stack(A)\n",
    "    _,_,Vt = np.linalg.svd(A)\n",
    "    X = Vt[-1]\n",
    "    return X[:3]/X[3]\n",
    "\n",
    "P1 = K @ np.hstack([R1, t1.reshape(3,1)])\n",
    "P2 = K @ np.hstack([R2, t2.reshape(3,1)])\n",
    "Q_est = triangulate([q1,q2],[P1,P2])\n",
    "print('triangulated Q:', Q_est)\n",
    "q1_proj = project(K,R1,t1,np.append(Q_est,1))\n",
    "q2_proj = project(K,R2,t2,np.append(Q_est,1))\n",
    "print('reprojection error cam1:', np.linalg.norm(q1_proj-q1))\n",
    "print('reprojection error cam2:', np.linalg.norm(q2_proj-q2))\n"
   ]
  }
 ],
 "metadata": {
  "language_info": {
   "codemirror_mode": {
    "name": "ipython",
    "version": 3
   },
   "file_extension": ".py",
   "mimetype": "text/x-python",
   "name": "python",
   "nbconvert_exporter": "python",
   "pygments_lexer": "ipython3",
   "version": "3.12.10"
  }
 },
 "nbformat": 4,
 "nbformat_minor": 5
}
