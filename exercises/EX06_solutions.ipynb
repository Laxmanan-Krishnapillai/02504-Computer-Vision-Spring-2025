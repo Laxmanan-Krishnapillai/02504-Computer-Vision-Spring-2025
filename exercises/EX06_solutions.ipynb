{
 "cells": [
  {
   "cell_type": "markdown",
   "id": "cf7fb57d",
   "metadata": {},
   "source": [
    "# Exercise 6 Solutions\n",
    "This notebook contains solutions to the week 6 exercises."
   ]
  },
  {
   "cell_type": "markdown",
   "id": "03b956ff",
   "metadata": {},
   "source": [
    "We use built-in images from `skimage.data` as the original test images are not included in the repository."
   ]
  },
  {
   "cell_type": "code",
   "execution_count": null,
   "id": "67199ffb",
   "metadata": {
    "execution": {
     "iopub.execute_input": "2025-08-14T21:24:37.799765Z",
     "iopub.status.busy": "2025-08-14T21:24:37.799566Z",
     "iopub.status.idle": "2025-08-14T21:24:38.560775Z",
     "shell.execute_reply": "2025-08-14T21:24:38.559915Z"
    }
   },
   "outputs": [],
   "source": [
    "import numpy as np\n",
    "import cv2\n",
    "from skimage import data, color\n",
    "import matplotlib.pyplot as plt\n",
    "from scipy.ndimage import maximum_filter\n"
   ]
  },
  {
   "cell_type": "markdown",
   "id": "b30535ec",
   "metadata": {},
   "source": [
    "## Exercise 6.1\n",
    "Implement a Gaussian kernel `g` and its derivative `gd` for a given width $\\sigma$. The kernel is truncated at $\\pm3\\sigma$, which retains more than 99\\% of the Gaussian mass. The kernel is normalized to sum to one."
   ]
  },
  {
   "cell_type": "code",
   "execution_count": null,
   "id": "f0ee7f6d",
   "metadata": {
    "execution": {
     "iopub.execute_input": "2025-08-14T21:24:38.583805Z",
     "iopub.status.busy": "2025-08-14T21:24:38.583439Z",
     "iopub.status.idle": "2025-08-14T21:24:38.592719Z",
     "shell.execute_reply": "2025-08-14T21:24:38.592007Z"
    }
   },
   "outputs": [],
   "source": [
    "def gaussian1DKernel(sigma, truncate=3):\n",
    "    \"\"\"Return 1D Gaussian kernel and its derivative.\"\"\"\n",
    "    if sigma <= 0:\n",
    "        raise ValueError(\"sigma must be positive\")\n",
    "    half = int(np.ceil(truncate * sigma))\n",
    "    x = np.arange(-half, half + 1)\n",
    "    g = np.exp(-(x**2) / (2 * sigma**2))\n",
    "    g = g / g.sum()\n",
    "    gd = -x / (sigma**2) * g\n",
    "    return g.astype(np.float32), gd.astype(np.float32)\n",
    "\n",
    "# Example\n",
    "g, gd = gaussian1DKernel(1.5)\n",
    "len(g), g.sum()\n"
   ]
  },
  {
   "cell_type": "markdown",
   "id": "193976ff",
   "metadata": {},
   "source": [
    "## Exercise 6.2\n",
    "Using separable convolution, smooth the image and compute derivatives in $x$ and $y$."
   ]
  },
  {
   "cell_type": "code",
   "execution_count": null,
   "id": "8f043722",
   "metadata": {
    "execution": {
     "iopub.execute_input": "2025-08-14T21:24:38.594792Z",
     "iopub.status.busy": "2025-08-14T21:24:38.594591Z",
     "iopub.status.idle": "2025-08-14T21:24:38.936138Z",
     "shell.execute_reply": "2025-08-14T21:24:38.935514Z"
    }
   },
   "outputs": [],
   "source": [
    "def gaussianSmoothing(im, sigma):\n",
    "    im_gray = color.rgb2gray(im) if im.ndim == 3 else im\n",
    "    im_gray = im_gray.astype(np.float32)\n",
    "    if sigma == 0:\n",
    "        return im_gray, np.zeros_like(im_gray), np.zeros_like(im_gray)\n",
    "    g, gd = gaussian1DKernel(sigma)\n",
    "    I = cv2.sepFilter2D(im_gray, -1, g, g)\n",
    "    Ix = cv2.sepFilter2D(im_gray, -1, gd, g)\n",
    "    Iy = cv2.sepFilter2D(im_gray, -1, g, gd)\n",
    "    return I, Ix, Iy\n",
    "\n",
    "# Test on checkerboard image\n",
    "test_im = data.checkerboard()\n",
    "I, Ix, Iy = gaussianSmoothing(test_im, 1.5)\n",
    "fig, axs = plt.subplots(1,3, figsize=(12,4))\n",
    "for ax, img, title in zip(axs, [I, Ix, Iy], ['I','Ix','Iy']):\n",
    "    ax.imshow(img, cmap='gray')\n",
    "    ax.set_title(title)\n",
    "    ax.axis('off')\n",
    "plt.show()\n"
   ]
  },
  {
   "cell_type": "markdown",
   "id": "c8fab37d",
   "metadata": {},
   "source": [
    "## Exercise 6.3\n",
    "Compute the structure tensor $C(x,y)$ by smoothing the squared derivatives with a Gaussian of width $\\epsilon$."
   ]
  },
  {
   "cell_type": "code",
   "execution_count": null,
   "id": "13ee9ac1",
   "metadata": {
    "execution": {
     "iopub.execute_input": "2025-08-14T21:24:38.938444Z",
     "iopub.status.busy": "2025-08-14T21:24:38.938245Z",
     "iopub.status.idle": "2025-08-14T21:24:38.944170Z",
     "shell.execute_reply": "2025-08-14T21:24:38.943690Z"
    }
   },
   "outputs": [],
   "source": [
    "def structureTensor(im, sigma, epsilon):\n",
    "    I, Ix, Iy = gaussianSmoothing(im, sigma)\n",
    "    g_eps, _ = gaussian1DKernel(epsilon)\n",
    "    Ix2 = cv2.sepFilter2D(Ix*Ix, -1, g_eps, g_eps)\n",
    "    Iy2 = cv2.sepFilter2D(Iy*Iy, -1, g_eps, g_eps)\n",
    "    Ixy = cv2.sepFilter2D(Ix*Iy, -1, g_eps, g_eps)\n",
    "    return Ix2, Iy2, Ixy\n",
    "\n",
    "A, B, C = structureTensor(test_im, 1.5, 2)\n",
    "A.shape\n"
   ]
  },
  {
   "cell_type": "markdown",
   "id": "e16cc123",
   "metadata": {},
   "source": [
    "## Exercise 6.4\n",
    "Compute the Harris response $r(x,y) = \\det(C) - k\\,\\mathrm{trace}(C)^2$. The secondary smoothing with $\\epsilon$ is crucial; setting $\\epsilon=0$ leaves the tensor unsmoothed and sensitive to noise."
   ]
  },
  {
   "cell_type": "code",
   "execution_count": null,
   "id": "1c347ab4",
   "metadata": {
    "execution": {
     "iopub.execute_input": "2025-08-14T21:24:38.946068Z",
     "iopub.status.busy": "2025-08-14T21:24:38.945882Z",
     "iopub.status.idle": "2025-08-14T21:24:39.079842Z",
     "shell.execute_reply": "2025-08-14T21:24:39.079233Z"
    }
   },
   "outputs": [],
   "source": [
    "def harrisMeasure(im, sigma, epsilon, k=0.06):\n",
    "    Ix2, Iy2, Ixy = structureTensor(im, sigma, epsilon)\n",
    "    det = Ix2 * Iy2 - Ixy**2\n",
    "    trace = Ix2 + Iy2\n",
    "    r = det - k * trace**2\n",
    "    return r\n",
    "\n",
    "r = harrisMeasure(test_im, 1.5, 2, 0.06)\n",
    "plt.imshow(r, cmap='gray')\n",
    "plt.title('Harris response')\n",
    "plt.axis('off')\n",
    "plt.show()\n"
   ]
  },
  {
   "cell_type": "markdown",
   "id": "9591c0c3",
   "metadata": {},
   "source": [
    "## Exercise 6.5\n",
    "Detect corners as local maxima of $r$ above a relative threshold $\\tau$ using non-maximum suppression."
   ]
  },
  {
   "cell_type": "code",
   "execution_count": null,
   "id": "a0ce2a73",
   "metadata": {
    "execution": {
     "iopub.execute_input": "2025-08-14T21:24:39.081928Z",
     "iopub.status.busy": "2025-08-14T21:24:39.081736Z",
     "iopub.status.idle": "2025-08-14T21:24:39.212581Z",
     "shell.execute_reply": "2025-08-14T21:24:39.211936Z"
    }
   },
   "outputs": [],
   "source": [
    "def cornerDetector(im, sigma, epsilon, k, tau):\n",
    "    r = harrisMeasure(im, sigma, epsilon, k)\n",
    "    max_r = maximum_filter(r, size=3)\n",
    "    corners = (r == max_r) & (r > tau * r.max())\n",
    "    ys, xs = np.where(corners)\n",
    "    return list(zip(xs, ys)), r\n",
    "\n",
    "corners, r = cornerDetector(test_im, 1.5, 2, 0.06, 0.01)\n",
    "fig, ax = plt.subplots()\n",
    "ax.imshow(test_im, cmap='gray')\n",
    "if corners:\n",
    "    xs, ys = zip(*corners)\n",
    "    ax.scatter(xs, ys, s=30, c='r')\n",
    "ax.set_title('Detected corners')\n",
    "ax.axis('off')\n",
    "plt.show()\n"
   ]
  },
  {
   "cell_type": "markdown",
   "id": "5232c14a",
   "metadata": {},
   "source": [
    "## Exercise 6.6\n",
    "Apply the Canny edge detector to two images."
   ]
  },
  {
   "cell_type": "code",
   "execution_count": null,
   "id": "b48c7c81",
   "metadata": {
    "execution": {
     "iopub.execute_input": "2025-08-14T21:24:39.214927Z",
     "iopub.status.busy": "2025-08-14T21:24:39.214713Z",
     "iopub.status.idle": "2025-08-14T21:24:39.959368Z",
     "shell.execute_reply": "2025-08-14T21:24:39.958730Z"
    }
   },
   "outputs": [],
   "source": [
    "def canny_edges(im, t1, t2):\n",
    "    im_gray = color.rgb2gray(im) if im.ndim == 3 else im\n",
    "    im_gray = (im_gray * 255).astype(np.uint8)\n",
    "    edges = cv2.Canny(im_gray, t1, t2)\n",
    "    return edges\n",
    "\n",
    "im1 = data.camera()\n",
    "im2 = data.astronaut()\n",
    "\n",
    "edges1 = canny_edges(im1, 50, 150)\n",
    "edges2 = canny_edges(im2, 50, 150)\n",
    "\n",
    "fig, axs = plt.subplots(2,2, figsize=(8,8))\n",
    "axs[0,0].imshow(im1, cmap='gray'); axs[0,0].set_title('Image 1'); axs[0,0].axis('off')\n",
    "axs[0,1].imshow(edges1, cmap='gray'); axs[0,1].set_title('Canny'); axs[0,1].axis('off')\n",
    "axs[1,0].imshow(color.rgb2gray(im2), cmap='gray'); axs[1,0].set_title('Image 2'); axs[1,0].axis('off')\n",
    "axs[1,1].imshow(edges2, cmap='gray'); axs[1,1].set_title('Canny'); axs[1,1].axis('off')\n",
    "plt.show()\n"
   ]
  },
  {
   "cell_type": "markdown",
   "id": "820c4545",
   "metadata": {},
   "source": [
    "## Exercise 6.7\n",
    "Explore the effect of varying the hysteresis thresholds in the Canny edge detector."
   ]
  },
  {
   "cell_type": "code",
   "execution_count": null,
   "id": "ca146940",
   "metadata": {
    "execution": {
     "iopub.execute_input": "2025-08-14T21:24:39.965360Z",
     "iopub.status.busy": "2025-08-14T21:24:39.965168Z",
     "iopub.status.idle": "2025-08-14T21:24:40.463790Z",
     "shell.execute_reply": "2025-08-14T21:24:40.463207Z"
    }
   },
   "outputs": [],
   "source": [
    "params = [(30,100), (50,150), (100,200)]\n",
    "fig, axs = plt.subplots(1,3, figsize=(12,4))\n",
    "for ax, (t1, t2) in zip(axs, params):\n",
    "    ax.imshow(canny_edges(im2, t1, t2), cmap='gray')\n",
    "    ax.set_title(f't1={t1}, t2={t2}')\n",
    "    ax.axis('off')\n",
    "plt.show()\n"
   ]
  }
 ],
 "metadata": {
  "language_info": {
   "codemirror_mode": {
    "name": "ipython",
    "version": 3
   },
   "file_extension": ".py",
   "mimetype": "text/x-python",
   "name": "python",
   "nbconvert_exporter": "python",
   "pygments_lexer": "ipython3",
   "version": "3.12.10"
  }
 },
 "nbformat": 4,
 "nbformat_minor": 5
}
