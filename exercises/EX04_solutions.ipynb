{
 "cells": [
  {
   "cell_type": "markdown",
   "id": "d869ce91",
   "metadata": {},
   "source": [
    "# EX04 Solutions\n",
    "Solutions to the fourth week's exercises on camera calibration."
   ]
  },
  {
   "cell_type": "code",
   "execution_count": 1,
   "id": "eb498ffb",
   "metadata": {
    "execution": {
     "iopub.execute_input": "2025-08-14T19:08:56.529948Z",
     "iopub.status.busy": "2025-08-14T19:08:56.529671Z",
     "iopub.status.idle": "2025-08-14T19:08:56.895699Z",
     "shell.execute_reply": "2025-08-14T19:08:56.895007Z"
    }
   },
   "outputs": [],
   "source": [
    "import numpy as np\n",
    "from scipy.spatial.transform import Rotation"
   ]
  },
  {
   "cell_type": "markdown",
   "id": "0d294550",
   "metadata": {},
   "source": [
    "### Exercise 4.1\n",
    "Using the pinhole camera model, the projection matrix is given by $P=K[R\\mid t]$. We project the cube corners $Q$ (with $i,j,k\\in\\{0,1\\}$) using homogeneous coordinates."
   ]
  },
  {
   "cell_type": "code",
   "execution_count": 2,
   "id": "6fd1ae05",
   "metadata": {
    "execution": {
     "iopub.execute_input": "2025-08-14T19:08:56.898784Z",
     "iopub.status.busy": "2025-08-14T19:08:56.898420Z",
     "iopub.status.idle": "2025-08-14T19:08:56.907917Z",
     "shell.execute_reply": "2025-08-14T19:08:56.907070Z"
    }
   },
   "outputs": [
    {
     "name": "stdout",
     "output_type": "stream",
     "text": [
      "Projection matrix P: [[ 7.07106781e+02 -7.07106781e+02  9.60000000e+02  9.60000000e+03]\n",
      " [ 7.07106781e+02  7.07106781e+02  5.40000000e+02  5.40000000e+03]\n",
      " [ 0.00000000e+00  0.00000000e+00  1.00000000e+00  1.00000000e+01]]\n",
      "Image points q: [[ 960.          960.          889.28932188  895.71756535 1030.71067812\n",
      "  1024.28243465  960.          960.        ]\n",
      " [ 540.          540.          610.71067812  604.28243465  610.71067812\n",
      "   604.28243465  681.42135624  668.56486931]]\n"
     ]
    }
   ],
   "source": [
    "# World points\n",
    "Q = np.array([[i,j,k] for i in [0,1] for j in [0,1] for k in [0,1]]).T\n",
    "\n",
    "# Intrinsic matrix for f=1000 and 1920x1080 sensor\n",
    "f = 1000\n",
    "width, height = 1920, 1080\n",
    "K = np.array([[f,0,width/2],[0,f,height/2],[0,0,1]])\n",
    "\n",
    "# Camera pose\n",
    "s = np.sqrt(1/2)\n",
    "R = np.array([[s,-s,0],[s,s,0],[0,0,1]])\n",
    "t = np.array([0,0,10])\n",
    "\n",
    "# Projection matrix and image projections\n",
    "P = K @ np.hstack((R, t.reshape(3,1)))\n",
    "Qh = np.vstack((Q, np.ones((1,Q.shape[1]))))\n",
    "qh = P @ Qh\n",
    "q = qh[:2] / qh[2]\n",
    "print('Projection matrix P:', P)\n",
    "print('Image points q:', q)"
   ]
  },
  {
   "cell_type": "markdown",
   "id": "e537a21d",
   "metadata": {},
   "source": [
    "### Exercise 4.2\n",
    "The Direct Linear Transform (DLT) stacks the equations $\\mathbf{q}\times(P\\mathbf{Q})=0$ and solves for $P$ via SVD. We estimate $P$ with and without normalizing the image points and report the reprojection error."
   ]
  },
  {
   "cell_type": "code",
   "execution_count": 3,
   "id": "502d3d36",
   "metadata": {
    "execution": {
     "iopub.execute_input": "2025-08-14T19:08:56.910252Z",
     "iopub.status.busy": "2025-08-14T19:08:56.909984Z",
     "iopub.status.idle": "2025-08-14T19:08:56.923481Z",
     "shell.execute_reply": "2025-08-14T19:08:56.922765Z"
    }
   },
   "outputs": [
    {
     "name": "stdout",
     "output_type": "stream",
     "text": [
      "RMSE without normalization: 6.268222281955226e-11\n",
      "RMSE with normalization   : 1.503935499763765e-13\n"
     ]
    }
   ],
   "source": [
    "def normalize2d(points):\n",
    "    centroid = points.mean(axis=1, keepdims=True)\n",
    "    shifted = points - centroid\n",
    "    mean_dist = np.mean(np.sqrt(np.sum(shifted**2, axis=0)))\n",
    "    scale = np.sqrt(2) / mean_dist\n",
    "    T = np.array([[scale,0,-scale*centroid[0,0]],[0,scale,-scale*centroid[1,0]],[0,0,1]])\n",
    "    pts_h = np.vstack((points, np.ones(points.shape[1])))\n",
    "    pts_norm = T @ pts_h\n",
    "    return T, pts_norm[:2]\n",
    "\n",
    "def pest(Q, q, normalize=False):\n",
    "    if normalize:\n",
    "        T, qn = normalize2d(q)\n",
    "    else:\n",
    "        T = np.eye(3); qn = q\n",
    "    A = []\n",
    "    for i in range(Q.shape[1]):\n",
    "        X,Y,Z = Q[:,i]\n",
    "        u,v = qn[:,i]\n",
    "        A.append([X,Y,Z,1,0,0,0,0,-u*X,-u*Y,-u*Z,-u])\n",
    "        A.append([0,0,0,0,X,Y,Z,1,-v*X,-v*Y,-v*Z,-v])\n",
    "    A = np.array(A)\n",
    "    _,_,Vt = np.linalg.svd(A)\n",
    "    Pn = Vt[-1].reshape(3,4)\n",
    "    P = np.linalg.inv(T) @ Pn\n",
    "    return P\n",
    "\n",
    "P_est = pest(Q, q)\n",
    "Qh = np.vstack((Q, np.ones((1,Q.shape[1]))))\n",
    "q_est = P_est @ Qh\n",
    "q_est = q_est[:2] / q_est[2]\n",
    "rmse = np.sqrt(np.mean(np.sum((q_est - q)**2, axis=0)))\n",
    "\n",
    "P_est_n = pest(Q, q, normalize=True)\n",
    "q_est_n = P_est_n @ Qh\n",
    "q_est_n = q_est_n[:2] / q_est_n[2]\n",
    "rmse_n = np.sqrt(np.mean(np.sum((q_est_n - q)**2, axis=0)))\n",
    "\n",
    "print('RMSE without normalization:', rmse)\n",
    "print('RMSE with normalization   :', rmse_n)"
   ]
  },
  {
   "cell_type": "markdown",
   "id": "c067ca38",
   "metadata": {},
   "source": [
    "### Exercise 4.3\n",
    "`checkerboard_points` generates an $n\times m$ grid of planar points centered at the origin."
   ]
  },
  {
   "cell_type": "code",
   "execution_count": 4,
   "id": "0ab9e542",
   "metadata": {
    "execution": {
     "iopub.execute_input": "2025-08-14T19:08:56.925968Z",
     "iopub.status.busy": "2025-08-14T19:08:56.925713Z",
     "iopub.status.idle": "2025-08-14T19:08:56.929525Z",
     "shell.execute_reply": "2025-08-14T19:08:56.928899Z"
    }
   },
   "outputs": [],
   "source": [
    "def checkerboard_points(n, m):\n",
    "    i, j = np.meshgrid(np.arange(n), np.arange(m), indexing='ij')\n",
    "    coords = np.vstack((i.ravel()-(n-1)/2, j.ravel()-(m-1)/2, np.zeros(n*m)))\n",
    "    return coords\n",
    "\n",
    "Q_omega = checkerboard_points(10, 20)"
   ]
  },
  {
   "cell_type": "markdown",
   "id": "ce5df491",
   "metadata": {},
   "source": [
    "### Exercise 4.4\n",
    "We create three checkerboards by rotating $Q_{\\omega}$ about the $x$-axis and project them to the image plane."
   ]
  },
  {
   "cell_type": "code",
   "execution_count": 5,
   "id": "9055596d",
   "metadata": {
    "execution": {
     "iopub.execute_input": "2025-08-14T19:08:56.931537Z",
     "iopub.status.busy": "2025-08-14T19:08:56.931299Z",
     "iopub.status.idle": "2025-08-14T19:08:56.936514Z",
     "shell.execute_reply": "2025-08-14T19:08:56.935897Z"
    }
   },
   "outputs": [],
   "source": [
    "rot = Rotation.from_euler('xyz', [np.pi/10, 0, 0]).as_matrix()\n",
    "Qa = rot @ Q_omega\n",
    "Qb = Q_omega.copy()\n",
    "rot_neg = Rotation.from_euler('xyz', [-np.pi/10, 0, 0]).as_matrix()\n",
    "Qc = rot_neg @ Q_omega\n",
    "\n",
    "def project(P, Q):\n",
    "    Qh = np.vstack((Q, np.ones((1, Q.shape[1]))))\n",
    "    qh = P @ Qh\n",
    "    return qh[:2] / qh[2]\n",
    "\n",
    "qa = project(P, Qa)\n",
    "qb = project(P, Qb)\n",
    "qc = project(P, Qc)"
   ]
  },
  {
   "cell_type": "markdown",
   "id": "4e6047e9",
   "metadata": {},
   "source": [
    "### Exercise 4.5\n",
    "Homographies mapping $Q_{\\omega}$ to each set of image points are estimated using the DLT homography estimator `hest`."
   ]
  },
  {
   "cell_type": "code",
   "execution_count": 6,
   "id": "eae95f72",
   "metadata": {
    "execution": {
     "iopub.execute_input": "2025-08-14T19:08:56.938588Z",
     "iopub.status.busy": "2025-08-14T19:08:56.938386Z",
     "iopub.status.idle": "2025-08-14T19:08:56.985287Z",
     "shell.execute_reply": "2025-08-14T19:08:56.984636Z"
    }
   },
   "outputs": [
    {
     "name": "stdout",
     "output_type": "stream",
     "text": [
      "homography RMSE: 3.5367659221829735e-13\n",
      "homography RMSE: 2.931056608759553e-13\n",
      "homography RMSE: 3.8221874695231336e-13\n"
     ]
    }
   ],
   "source": [
    "def hest(q1, q2, normalize=True):\n",
    "    if normalize:\n",
    "        T1, q1n = normalize2d(q1)\n",
    "        T2, q2n = normalize2d(q2)\n",
    "    else:\n",
    "        T1 = np.eye(3); q1n = q1\n",
    "        T2 = np.eye(3); q2n = q2\n",
    "    A = []\n",
    "    for i in range(q1.shape[1]):\n",
    "        x, y = q2n[:, i]\n",
    "        u, v = q1n[:, i]\n",
    "        A.append([-x, -y, -1, 0, 0, 0, u*x, u*y, u])\n",
    "        A.append([0, 0, 0, -x, -y, -1, v*x, v*y, v])\n",
    "    A = np.array(A)\n",
    "    _,_,Vt = np.linalg.svd(A)\n",
    "    Hn = Vt[-1].reshape(3,3)\n",
    "    H = np.linalg.inv(T1) @ Hn @ T2\n",
    "    return H / H[2,2]\n",
    "\n",
    "\n",
    "def estimateHomographies(Q_omega, qs):\n",
    "    Q2d = Q_omega[:2]\n",
    "    return [hest(q, Q2d, normalize=True) for q in qs]\n",
    "\n",
    "Hs = estimateHomographies(Q_omega, [qa, qb, qc])\n",
    "Q2dh = np.vstack((Q_omega[:2], np.ones(Q_omega.shape[1])))\n",
    "for H, q in zip(Hs, [qa, qb, qc]):\n",
    "    qh = H @ Q2dh\n",
    "    q_proj = qh[:2] / qh[2]\n",
    "    err = np.sqrt(np.mean(np.sum((q_proj - q)**2, axis=0)))\n",
    "    print('homography RMSE:', err)"
   ]
  },
  {
   "cell_type": "markdown",
   "id": "f04e14a8",
   "metadata": {},
   "source": [
    "### Exercise 4.6\n",
    "From the homographies we form the matrix $V$ and solve $V\\mathbf{b}=0$ to obtain the vector $\\mathbf{b}$ representing $B = K^{-T}K^{-1}$."
   ]
  },
  {
   "cell_type": "code",
   "execution_count": 7,
   "id": "16c912ae",
   "metadata": {
    "execution": {
     "iopub.execute_input": "2025-08-14T19:08:56.989184Z",
     "iopub.status.busy": "2025-08-14T19:08:56.988941Z",
     "iopub.status.idle": "2025-08-14T19:08:56.997226Z",
     "shell.execute_reply": "2025-08-14T19:08:56.996682Z"
    }
   },
   "outputs": [
    {
     "name": "stdout",
     "output_type": "stream",
     "text": [
      "b estimate: [-4.51834392e-07  1.89336415e-22 -4.51834392e-07  4.33761016e-04\n",
      "  2.43990572e-04 -9.99999876e-01]\n",
      "b_true scaled: [-4.51834392e-07 -0.00000000e+00 -4.51834392e-07  4.33761016e-04\n",
      "  2.43990572e-04 -9.99999876e-01]\n"
     ]
    }
   ],
   "source": [
    "def v_ij(H, i, j):\n",
    "    h = H.T\n",
    "    return np.array([\n",
    "        h[i,0]*h[j,0],\n",
    "        h[i,0]*h[j,1] + h[i,1]*h[j,0],\n",
    "        h[i,1]*h[j,1],\n",
    "        h[i,2]*h[j,0] + h[i,0]*h[j,2],\n",
    "        h[i,2]*h[j,1] + h[i,1]*h[j,2],\n",
    "        h[i,2]*h[j,2]])\n",
    "\n",
    "def estimate_b(Hs):\n",
    "    V = []\n",
    "    for H in Hs:\n",
    "        V.append(v_ij(H,0,1))\n",
    "        V.append(v_ij(H,0,0) - v_ij(H,1,1))\n",
    "    V = np.array(V)\n",
    "    _,_,Vt = np.linalg.svd(V)\n",
    "    return Vt[-1]\n",
    "\n",
    "b = estimate_b(Hs)\n",
    "invK = np.linalg.inv(K)\n",
    "B = invK.T @ invK\n",
    "b_true = np.array([B[0,0], B[0,1], B[1,1], B[0,2], B[1,2], B[2,2]])\n",
    "scale = b[0] / b_true[0]\n",
    "print('b estimate:', b)\n",
    "print('b_true scaled:', scale * b_true)"
   ]
  },
  {
   "cell_type": "markdown",
   "id": "8efb90ee",
   "metadata": {},
   "source": [
    "### Exercise 4.7\n",
    "The intrinsic parameters are recovered from $\\mathbf{b}$, yielding the camera matrix $K$."
   ]
  },
  {
   "cell_type": "code",
   "execution_count": 8,
   "id": "e4c84d35",
   "metadata": {
    "execution": {
     "iopub.execute_input": "2025-08-14T19:08:56.999216Z",
     "iopub.status.busy": "2025-08-14T19:08:56.998991Z",
     "iopub.status.idle": "2025-08-14T19:08:57.004929Z",
     "shell.execute_reply": "2025-08-14T19:08:57.004333Z"
    }
   },
   "outputs": [
    {
     "name": "stdout",
     "output_type": "stream",
     "text": [
      "Estimated K: [[1.00000000e+03 4.19039404e-13 9.60000000e+02]\n",
      " [0.00000000e+00 1.00000000e+03 5.40000000e+02]\n",
      " [0.00000000e+00 0.00000000e+00 1.00000000e+00]]\n"
     ]
    }
   ],
   "source": [
    "def estimateIntrinsics(Hs):\n",
    "    b = estimate_b(Hs)\n",
    "    B11,B12,B22,B13,B23,B33 = b\n",
    "    v0 = (B12*B13 - B11*B23) / (B11*B22 - B12**2)\n",
    "    lambda_ = B33 - (B13**2 + v0*(B12*B13 - B11*B23)) / B11\n",
    "    alpha = np.sqrt(lambda_ / B11)\n",
    "    beta = np.sqrt(lambda_ * B11 / (B11*B22 - B12**2))\n",
    "    gamma = -B12 * alpha**2 * beta / lambda_\n",
    "    u0 = gamma * v0 / beta - B13*alpha**2 / lambda_\n",
    "    return np.array([[alpha, gamma, u0],[0, beta, v0],[0,0,1]])\n",
    "\n",
    "K_est = estimateIntrinsics(Hs)\n",
    "print('Estimated K:', K_est)"
   ]
  },
  {
   "cell_type": "markdown",
   "id": "a3e4787b",
   "metadata": {},
   "source": [
    "### Exercise 4.8\n",
    "Extrinsic parameters for each view are obtained from the homographies. Combining the previous steps yields a `calibratecamera` function."
   ]
  },
  {
   "cell_type": "code",
   "execution_count": 9,
   "id": "17d24176",
   "metadata": {
    "execution": {
     "iopub.execute_input": "2025-08-14T19:08:57.006831Z",
     "iopub.status.busy": "2025-08-14T19:08:57.006621Z",
     "iopub.status.idle": "2025-08-14T19:08:57.048663Z",
     "shell.execute_reply": "2025-08-14T19:08:57.048087Z"
    }
   },
   "outputs": [
    {
     "name": "stdout",
     "output_type": "stream",
     "text": [
      "Calibrated K: [[1.00000000e+03 4.19039404e-13 9.60000000e+02]\n",
      " [0.00000000e+00 1.00000000e+03 5.40000000e+02]\n",
      " [0.00000000e+00 0.00000000e+00 1.00000000e+00]]\n"
     ]
    }
   ],
   "source": [
    "def estimateExtrinsics(K, Hs):\n",
    "    invK = np.linalg.inv(K)\n",
    "    Rs, ts = [], []\n",
    "    for H in Hs:\n",
    "        h1, h2, h3 = H[:,0], H[:,1], H[:,2]\n",
    "        lam = 1/np.linalg.norm(invK @ h1)\n",
    "        r1 = lam * (invK @ h1)\n",
    "        r2 = lam * (invK @ h2)\n",
    "        r3 = np.cross(r1, r2)\n",
    "        R = np.column_stack((r1, r2, r3))\n",
    "        U,_,Vt = np.linalg.svd(R)\n",
    "        R = U @ Vt\n",
    "        t = lam * (invK @ h3)\n",
    "        Rs.append(R); ts.append(t)\n",
    "    return Rs, ts\n",
    "\n",
    "def calibratecamera(qs, Q):\n",
    "    Hs = estimateHomographies(Q, qs)\n",
    "    K = estimateIntrinsics(Hs)\n",
    "    Rs, ts = estimateExtrinsics(K, Hs)\n",
    "    return K, Rs, ts\n",
    "\n",
    "K_c, Rs_c, ts_c = calibratecamera([qa, qb, qc], Q_omega)\n",
    "print('Calibrated K:', K_c)"
   ]
  },
  {
   "cell_type": "markdown",
   "id": "ef74320a",
   "metadata": {},
   "source": [
    "### Exercise 4.9\n",
    "We reproject the checkerboards using the estimated parameters and compute the root mean squared reprojection error."
   ]
  },
  {
   "cell_type": "code",
   "execution_count": 10,
   "id": "29cf55a2",
   "metadata": {
    "execution": {
     "iopub.execute_input": "2025-08-14T19:08:57.050678Z",
     "iopub.status.busy": "2025-08-14T19:08:57.050456Z",
     "iopub.status.idle": "2025-08-14T19:08:57.070608Z",
     "shell.execute_reply": "2025-08-14T19:08:57.069990Z"
    }
   },
   "outputs": [
    {
     "name": "stdout",
     "output_type": "stream",
     "text": [
      "view 0 RMSE: 5.687583751789392e-13\n",
      "view 1 RMSE: 3.8290046402730916e-13\n",
      "view 2 RMSE: 3.9363052515600186e-13\n"
     ]
    }
   ],
   "source": [
    "def project_with_RT(K, R, t, Q):\n",
    "    P = K @ np.hstack((R, t.reshape(3,1)))\n",
    "    Qh = np.vstack((Q, np.ones((1, Q.shape[1]))))\n",
    "    qh = P @ Qh\n",
    "    return qh[:2] / qh[2]\n",
    "\n",
    "for idx, (R, t, q) in enumerate(zip(Rs_c, ts_c, [qa, qb, qc])):\n",
    "    q_proj = project_with_RT(K_c, R, t, Q_omega)\n",
    "    err = np.sqrt(np.mean(np.sum((q_proj - q)**2, axis=0)))\n",
    "    print(f'view {idx} RMSE: {err}')"
   ]
  },
  {
   "cell_type": "markdown",
   "id": "d2d7a2f9",
   "metadata": {},
   "source": [
    "### Exercise 4.10\n",
    "Adding Gaussian noise with $\\sigma=1$ px to the image points still yields an almost correct calibration."
   ]
  },
  {
   "cell_type": "code",
   "execution_count": 11,
   "id": "1e01825c",
   "metadata": {
    "execution": {
     "iopub.execute_input": "2025-08-14T19:08:57.072552Z",
     "iopub.status.busy": "2025-08-14T19:08:57.072336Z",
     "iopub.status.idle": "2025-08-14T19:08:57.111255Z",
     "shell.execute_reply": "2025-08-14T19:08:57.110655Z"
    }
   },
   "outputs": [
    {
     "name": "stdout",
     "output_type": "stream",
     "text": [
      "K difference (noisy - true): [[-2.86023913 -0.07937287  0.17831974]\n",
      " [ 0.         -2.86099568 -0.78429855]\n",
      " [ 0.          0.          0.        ]]\n"
     ]
    }
   ],
   "source": [
    "noise_a = qa + np.random.normal(0,1,qa.shape)\n",
    "noise_b = qb + np.random.normal(0,1,qb.shape)\n",
    "noise_c = qc + np.random.normal(0,1,qc.shape)\n",
    "K_noisy, Rs_noisy, ts_noisy = calibratecamera([noise_a, noise_b, noise_c], Q_omega)\n",
    "print('K difference (noisy - true):', K_noisy - K)"
   ]
  }
 ],
 "metadata": {
  "language_info": {
   "codemirror_mode": {
    "name": "ipython",
    "version": 3
   },
   "file_extension": ".py",
   "mimetype": "text/x-python",
   "name": "python",
   "nbconvert_exporter": "python",
   "pygments_lexer": "ipython3",
   "version": "3.12.10"
  }
 },
 "nbformat": 4,
 "nbformat_minor": 5
}
